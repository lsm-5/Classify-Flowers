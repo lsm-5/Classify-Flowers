{
  "nbformat": 4,
  "nbformat_minor": 0,
  "metadata": {
    "colab": {
      "name": "FinalProjectEnglish.ipynb",
      "provenance": [],
      "authorship_tag": "ABX9TyMyCLX+ngcuhYj0vZUJ+Wip"
    },
    "kernelspec": {
      "name": "python3",
      "display_name": "Python 3"
    },
    "widgets": {
      "application/vnd.jupyter.widget-state+json": {
        "f52a783f93074adeab48fbf79d9edda2": {
          "model_module": "@jupyter-widgets/controls",
          "model_name": "VBoxModel",
          "state": {
            "_view_name": "VBoxView",
            "_dom_classes": [],
            "_model_name": "VBoxModel",
            "_view_module": "@jupyter-widgets/controls",
            "_model_module_version": "1.5.0",
            "_view_count": null,
            "_view_module_version": "1.5.0",
            "box_style": "",
            "layout": "IPY_MODEL_0dfeed103fb7453e96f918069c61dc84",
            "_model_module": "@jupyter-widgets/controls",
            "children": [
              "IPY_MODEL_c37eb870170947fbbdf2e98ab7cb5564",
              "IPY_MODEL_49fb1952f9e647fe84eb1934d18120d1",
              "IPY_MODEL_bfe90224a2d54e899b572978f58c1b8c",
              "IPY_MODEL_a7bda3ba52ef422b8e1549940bcceaf4",
              "IPY_MODEL_cc233b80277a4599a676505d0d739c42"
            ]
          }
        },
        "0dfeed103fb7453e96f918069c61dc84": {
          "model_module": "@jupyter-widgets/base",
          "model_name": "LayoutModel",
          "state": {
            "_view_name": "LayoutView",
            "grid_template_rows": null,
            "right": null,
            "justify_content": null,
            "_view_module": "@jupyter-widgets/base",
            "overflow": null,
            "_model_module_version": "1.2.0",
            "_view_count": null,
            "flex_flow": null,
            "width": null,
            "min_width": null,
            "border": null,
            "align_items": null,
            "bottom": null,
            "_model_module": "@jupyter-widgets/base",
            "top": null,
            "grid_column": null,
            "overflow_y": null,
            "overflow_x": null,
            "grid_auto_flow": null,
            "grid_area": null,
            "grid_template_columns": null,
            "flex": null,
            "_model_name": "LayoutModel",
            "justify_items": null,
            "grid_row": null,
            "max_height": null,
            "align_content": null,
            "visibility": null,
            "align_self": null,
            "height": null,
            "min_height": null,
            "padding": null,
            "grid_auto_rows": null,
            "grid_gap": null,
            "max_width": null,
            "order": null,
            "_view_module_version": "1.2.0",
            "grid_template_areas": null,
            "object_position": null,
            "object_fit": null,
            "grid_auto_columns": null,
            "margin": null,
            "display": null,
            "left": null
          }
        },
        "c37eb870170947fbbdf2e98ab7cb5564": {
          "model_module": "@jupyter-widgets/controls",
          "model_name": "LabelModel",
          "state": {
            "_view_name": "LabelView",
            "style": "IPY_MODEL_e41f914ad1664e8d9c1ea5cfda1b9eee",
            "_dom_classes": [],
            "description": "",
            "_model_name": "LabelModel",
            "placeholder": "​",
            "_view_module": "@jupyter-widgets/controls",
            "_model_module_version": "1.5.0",
            "value": "Select your flower!",
            "_view_count": null,
            "_view_module_version": "1.5.0",
            "description_tooltip": null,
            "_model_module": "@jupyter-widgets/controls",
            "layout": "IPY_MODEL_bdf3c77352884ce8b6467595f497f646"
          }
        },
        "49fb1952f9e647fe84eb1934d18120d1": {
          "model_module": "@jupyter-widgets/controls",
          "model_name": "FileUploadModel",
          "state": {
            "_view_name": "FileUploadView",
            "_counter": 1,
            "style": "IPY_MODEL_20a83fba0bc04fcbba12ad24ffe874bb",
            "_dom_classes": [],
            "description": "Upload",
            "multiple": false,
            "_model_name": "FileUploadModel",
            "data": [
              null
            ],
            "button_style": "",
            "_view_module": "@jupyter-widgets/controls",
            "_model_module_version": "1.5.0",
            "accept": "",
            "_view_count": null,
            "disabled": false,
            "_view_module_version": "1.5.0",
            "error": "",
            "description_tooltip": null,
            "metadata": [
              {
                "name": "orquidea_phalaenopsis_pote_12_89207713_64cd_600x600.jpg",
                "type": "image/jpeg",
                "size": 76456,
                "lastModified": 1604977783953
              }
            ],
            "_model_module": "@jupyter-widgets/controls",
            "layout": "IPY_MODEL_1547c6ea256a44a784f49abe93f24097",
            "icon": "upload"
          }
        },
        "bfe90224a2d54e899b572978f58c1b8c": {
          "model_module": "@jupyter-widgets/controls",
          "model_name": "ButtonModel",
          "state": {
            "_view_name": "ButtonView",
            "style": "IPY_MODEL_f56cf46da47645d687a4f3fb4886f4c5",
            "_dom_classes": [],
            "description": "Classify",
            "_model_name": "ButtonModel",
            "button_style": "",
            "_view_module": "@jupyter-widgets/controls",
            "_model_module_version": "1.5.0",
            "tooltip": "",
            "_view_count": null,
            "disabled": false,
            "_view_module_version": "1.5.0",
            "layout": "IPY_MODEL_89b8ce70d23443daa658c7fd5768432d",
            "_model_module": "@jupyter-widgets/controls",
            "icon": ""
          }
        },
        "a7bda3ba52ef422b8e1549940bcceaf4": {
          "model_module": "@jupyter-widgets/output",
          "model_name": "OutputModel",
          "state": {
            "_view_name": "OutputView",
            "msg_id": "",
            "_dom_classes": [],
            "_model_name": "OutputModel",
            "outputs": [
              {
                "output_type": "display_data",
                "metadata": {
                  "tags": []
                },
                "image/png": "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\n",
                "text/plain": "<PIL.Image.Image image mode=RGB size=128x128 at 0x7F94B9A18940>"
              }
            ],
            "_view_module": "@jupyter-widgets/output",
            "_model_module_version": "1.0.0",
            "_view_count": null,
            "_view_module_version": "1.0.0",
            "layout": "IPY_MODEL_e210235887da47d988bf6d5ecb829b63",
            "_model_module": "@jupyter-widgets/output"
          }
        },
        "cc233b80277a4599a676505d0d739c42": {
          "model_module": "@jupyter-widgets/controls",
          "model_name": "LabelModel",
          "state": {
            "_view_name": "LabelView",
            "style": "IPY_MODEL_b5cfd15182d349e3a9d145c698f83f4f",
            "_dom_classes": [],
            "description": "",
            "_model_name": "LabelModel",
            "placeholder": "​",
            "_view_module": "@jupyter-widgets/controls",
            "_model_module_version": "1.5.0",
            "value": "Prediction: orchid; Probability: 0.9989",
            "_view_count": null,
            "_view_module_version": "1.5.0",
            "description_tooltip": null,
            "_model_module": "@jupyter-widgets/controls",
            "layout": "IPY_MODEL_171439cf72fa41e8b9eca8497d13dcc7"
          }
        },
        "e41f914ad1664e8d9c1ea5cfda1b9eee": {
          "model_module": "@jupyter-widgets/controls",
          "model_name": "DescriptionStyleModel",
          "state": {
            "_view_name": "StyleView",
            "_model_name": "DescriptionStyleModel",
            "description_width": "",
            "_view_module": "@jupyter-widgets/base",
            "_model_module_version": "1.5.0",
            "_view_count": null,
            "_view_module_version": "1.2.0",
            "_model_module": "@jupyter-widgets/controls"
          }
        },
        "bdf3c77352884ce8b6467595f497f646": {
          "model_module": "@jupyter-widgets/base",
          "model_name": "LayoutModel",
          "state": {
            "_view_name": "LayoutView",
            "grid_template_rows": null,
            "right": null,
            "justify_content": null,
            "_view_module": "@jupyter-widgets/base",
            "overflow": null,
            "_model_module_version": "1.2.0",
            "_view_count": null,
            "flex_flow": null,
            "width": null,
            "min_width": null,
            "border": null,
            "align_items": null,
            "bottom": null,
            "_model_module": "@jupyter-widgets/base",
            "top": null,
            "grid_column": null,
            "overflow_y": null,
            "overflow_x": null,
            "grid_auto_flow": null,
            "grid_area": null,
            "grid_template_columns": null,
            "flex": null,
            "_model_name": "LayoutModel",
            "justify_items": null,
            "grid_row": null,
            "max_height": null,
            "align_content": null,
            "visibility": null,
            "align_self": null,
            "height": null,
            "min_height": null,
            "padding": null,
            "grid_auto_rows": null,
            "grid_gap": null,
            "max_width": null,
            "order": null,
            "_view_module_version": "1.2.0",
            "grid_template_areas": null,
            "object_position": null,
            "object_fit": null,
            "grid_auto_columns": null,
            "margin": null,
            "display": null,
            "left": null
          }
        },
        "20a83fba0bc04fcbba12ad24ffe874bb": {
          "model_module": "@jupyter-widgets/controls",
          "model_name": "ButtonStyleModel",
          "state": {
            "_view_name": "StyleView",
            "_model_name": "ButtonStyleModel",
            "_view_module": "@jupyter-widgets/base",
            "_model_module_version": "1.5.0",
            "_view_count": null,
            "button_color": null,
            "font_weight": "",
            "_view_module_version": "1.2.0",
            "_model_module": "@jupyter-widgets/controls"
          }
        },
        "1547c6ea256a44a784f49abe93f24097": {
          "model_module": "@jupyter-widgets/base",
          "model_name": "LayoutModel",
          "state": {
            "_view_name": "LayoutView",
            "grid_template_rows": null,
            "right": null,
            "justify_content": null,
            "_view_module": "@jupyter-widgets/base",
            "overflow": null,
            "_model_module_version": "1.2.0",
            "_view_count": null,
            "flex_flow": null,
            "width": null,
            "min_width": null,
            "border": null,
            "align_items": null,
            "bottom": null,
            "_model_module": "@jupyter-widgets/base",
            "top": null,
            "grid_column": null,
            "overflow_y": null,
            "overflow_x": null,
            "grid_auto_flow": null,
            "grid_area": null,
            "grid_template_columns": null,
            "flex": null,
            "_model_name": "LayoutModel",
            "justify_items": null,
            "grid_row": null,
            "max_height": null,
            "align_content": null,
            "visibility": null,
            "align_self": null,
            "height": null,
            "min_height": null,
            "padding": null,
            "grid_auto_rows": null,
            "grid_gap": null,
            "max_width": null,
            "order": null,
            "_view_module_version": "1.2.0",
            "grid_template_areas": null,
            "object_position": null,
            "object_fit": null,
            "grid_auto_columns": null,
            "margin": null,
            "display": null,
            "left": null
          }
        },
        "f56cf46da47645d687a4f3fb4886f4c5": {
          "model_module": "@jupyter-widgets/controls",
          "model_name": "ButtonStyleModel",
          "state": {
            "_view_name": "StyleView",
            "_model_name": "ButtonStyleModel",
            "_view_module": "@jupyter-widgets/base",
            "_model_module_version": "1.5.0",
            "_view_count": null,
            "button_color": null,
            "font_weight": "",
            "_view_module_version": "1.2.0",
            "_model_module": "@jupyter-widgets/controls"
          }
        },
        "89b8ce70d23443daa658c7fd5768432d": {
          "model_module": "@jupyter-widgets/base",
          "model_name": "LayoutModel",
          "state": {
            "_view_name": "LayoutView",
            "grid_template_rows": null,
            "right": null,
            "justify_content": null,
            "_view_module": "@jupyter-widgets/base",
            "overflow": null,
            "_model_module_version": "1.2.0",
            "_view_count": null,
            "flex_flow": null,
            "width": null,
            "min_width": null,
            "border": null,
            "align_items": null,
            "bottom": null,
            "_model_module": "@jupyter-widgets/base",
            "top": null,
            "grid_column": null,
            "overflow_y": null,
            "overflow_x": null,
            "grid_auto_flow": null,
            "grid_area": null,
            "grid_template_columns": null,
            "flex": null,
            "_model_name": "LayoutModel",
            "justify_items": null,
            "grid_row": null,
            "max_height": null,
            "align_content": null,
            "visibility": null,
            "align_self": null,
            "height": null,
            "min_height": null,
            "padding": null,
            "grid_auto_rows": null,
            "grid_gap": null,
            "max_width": null,
            "order": null,
            "_view_module_version": "1.2.0",
            "grid_template_areas": null,
            "object_position": null,
            "object_fit": null,
            "grid_auto_columns": null,
            "margin": null,
            "display": null,
            "left": null
          }
        },
        "b5cfd15182d349e3a9d145c698f83f4f": {
          "model_module": "@jupyter-widgets/controls",
          "model_name": "DescriptionStyleModel",
          "state": {
            "_view_name": "StyleView",
            "_model_name": "DescriptionStyleModel",
            "description_width": "",
            "_view_module": "@jupyter-widgets/base",
            "_model_module_version": "1.5.0",
            "_view_count": null,
            "_view_module_version": "1.2.0",
            "_model_module": "@jupyter-widgets/controls"
          }
        },
        "171439cf72fa41e8b9eca8497d13dcc7": {
          "model_module": "@jupyter-widgets/base",
          "model_name": "LayoutModel",
          "state": {
            "_view_name": "LayoutView",
            "grid_template_rows": null,
            "right": null,
            "justify_content": null,
            "_view_module": "@jupyter-widgets/base",
            "overflow": null,
            "_model_module_version": "1.2.0",
            "_view_count": null,
            "flex_flow": null,
            "width": null,
            "min_width": null,
            "border": null,
            "align_items": null,
            "bottom": null,
            "_model_module": "@jupyter-widgets/base",
            "top": null,
            "grid_column": null,
            "overflow_y": null,
            "overflow_x": null,
            "grid_auto_flow": null,
            "grid_area": null,
            "grid_template_columns": null,
            "flex": null,
            "_model_name": "LayoutModel",
            "justify_items": null,
            "grid_row": null,
            "max_height": null,
            "align_content": null,
            "visibility": null,
            "align_self": null,
            "height": null,
            "min_height": null,
            "padding": null,
            "grid_auto_rows": null,
            "grid_gap": null,
            "max_width": null,
            "order": null,
            "_view_module_version": "1.2.0",
            "grid_template_areas": null,
            "object_position": null,
            "object_fit": null,
            "grid_auto_columns": null,
            "margin": null,
            "display": null,
            "left": null
          }
        },
        "e210235887da47d988bf6d5ecb829b63": {
          "model_module": "@jupyter-widgets/base",
          "model_name": "LayoutModel",
          "state": {
            "_view_name": "LayoutView",
            "grid_template_rows": null,
            "right": null,
            "justify_content": null,
            "_view_module": "@jupyter-widgets/base",
            "overflow": null,
            "_model_module_version": "1.2.0",
            "_view_count": null,
            "flex_flow": null,
            "width": null,
            "min_width": null,
            "border": null,
            "align_items": null,
            "bottom": null,
            "_model_module": "@jupyter-widgets/base",
            "top": null,
            "grid_column": null,
            "overflow_y": null,
            "overflow_x": null,
            "grid_auto_flow": null,
            "grid_area": null,
            "grid_template_columns": null,
            "flex": null,
            "_model_name": "LayoutModel",
            "justify_items": null,
            "grid_row": null,
            "max_height": null,
            "align_content": null,
            "visibility": null,
            "align_self": null,
            "height": null,
            "min_height": null,
            "padding": null,
            "grid_auto_rows": null,
            "grid_gap": null,
            "max_width": null,
            "order": null,
            "_view_module_version": "1.2.0",
            "grid_template_areas": null,
            "object_position": null,
            "object_fit": null,
            "grid_auto_columns": null,
            "margin": null,
            "display": null,
            "left": null
          }
        }
      }
    }
  },
  "cells": [
    {
      "cell_type": "code",
      "metadata": {
        "id": "TcxFE-lSc6tn"
      },
      "source": [
        "!pip install -q -Uqq fastbook\n",
        "!pip install -q pandas==1.1.0\n",
        "import fastbook\n",
        "fastbook.setup_book()\n",
        "\n",
        "from fastbook import *\n",
        "\n",
        "learn_inf = load_learner('export.pkl', cpu=True)\n",
        "\n",
        "########\n",
        "\n",
        "btn_upload = widgets.FileUpload()\n",
        "\n",
        "out_pl = widgets.Output()\n",
        "out_pl.clear_output()\n",
        "\n",
        "lbl_pred = widgets.Label()\n",
        "\n",
        "btn_run = widgets.Button(description='Classify')\n",
        "\n",
        "def on_click_classify(change):\n",
        "    img = PILImage.create(btn_upload.data[-1])\n",
        "    out_pl.clear_output()\n",
        "    with out_pl: display(img.to_thumb(128,128))\n",
        "    pred,pred_idx,probs = learn_inf.predict(img)\n",
        "    lbl_pred.value = f'Prediction: {pred}; Probability: {probs[pred_idx]:.04f}'\n",
        "\n",
        "btn_run.on_click(on_click_classify)\n",
        "\n",
        "btn_upload = widgets.FileUpload()\n",
        "\n",
        "#Let's put it all together\n",
        "from ipywidgets import *"
      ],
      "execution_count": 4,
      "outputs": []
    },
    {
      "cell_type": "code",
      "metadata": {
        "id": "yJEhXYG0eAgb",
        "outputId": "59162498-acd3-4057-daa7-f3c190f85c22",
        "colab": {
          "base_uri": "https://localhost:8080/",
          "height": 273,
          "referenced_widgets": [
            "f52a783f93074adeab48fbf79d9edda2",
            "0dfeed103fb7453e96f918069c61dc84",
            "c37eb870170947fbbdf2e98ab7cb5564",
            "49fb1952f9e647fe84eb1934d18120d1",
            "bfe90224a2d54e899b572978f58c1b8c",
            "a7bda3ba52ef422b8e1549940bcceaf4",
            "cc233b80277a4599a676505d0d739c42",
            "e41f914ad1664e8d9c1ea5cfda1b9eee",
            "bdf3c77352884ce8b6467595f497f646",
            "20a83fba0bc04fcbba12ad24ffe874bb",
            "1547c6ea256a44a784f49abe93f24097",
            "f56cf46da47645d687a4f3fb4886f4c5",
            "89b8ce70d23443daa658c7fd5768432d",
            "b5cfd15182d349e3a9d145c698f83f4f",
            "171439cf72fa41e8b9eca8497d13dcc7",
            "e210235887da47d988bf6d5ecb829b63"
          ]
        }
      },
      "source": [
        "VBox([widgets.Label('Select your flower!'), btn_upload, btn_run, out_pl, lbl_pred])"
      ],
      "execution_count": 5,
      "outputs": [
        {
          "output_type": "display_data",
          "data": {
            "application/vnd.jupyter.widget-view+json": {
              "model_id": "f52a783f93074adeab48fbf79d9edda2",
              "version_minor": 0,
              "version_major": 2
            },
            "text/plain": [
              "VBox(children=(Label(value='Select your flower!'), FileUpload(value={}, description='Upload'), Button(descript…"
            ]
          },
          "metadata": {
            "tags": []
          }
        },
        {
          "output_type": "display_data",
          "data": {
            "text/html": [
              ""
            ],
            "text/plain": [
              "<IPython.core.display.HTML object>"
            ]
          },
          "metadata": {
            "tags": []
          }
        }
      ]
    },
    {
      "cell_type": "code",
      "metadata": {
        "id": "_c4E3yIGeIEi",
        "outputId": "31b49dc6-63f4-4dcd-f7b9-cdc31e96c029",
        "colab": {
          "base_uri": "https://localhost:8080/"
        }
      },
      "source": [
        "!pip install -q pandas==1.0.0\n",
        "!pip install -q folium==0.2.1\n",
        "!pip install -q voila\n",
        "!jupyter serverextension enable voila --sys-prefix"
      ],
      "execution_count": 6,
      "outputs": [
        {
          "output_type": "stream",
          "text": [
            "\u001b[K     |████████████████████████████████| 10.1MB 3.2MB/s \n",
            "\u001b[31mERROR: google-colab 1.0.0 has requirement pandas~=1.1.0; python_version >= \"3.0\", but you'll have pandas 1.0.0 which is incompatible.\u001b[0m\n",
            "\u001b[31mERROR: fbprophet 0.7.1 has requirement pandas>=1.0.4, but you'll have pandas 1.0.0 which is incompatible.\u001b[0m\n",
            "\u001b[K     |████████████████████████████████| 71kB 3.0MB/s \n",
            "\u001b[?25h  Building wheel for folium (setup.py) ... \u001b[?25l\u001b[?25hdone\n",
            "\u001b[K     |████████████████████████████████| 1.9MB 5.2MB/s \n",
            "\u001b[K     |████████████████████████████████| 552kB 41.9MB/s \n",
            "\u001b[K     |████████████████████████████████| 112kB 50.6MB/s \n",
            "\u001b[K     |████████████████████████████████| 204kB 36.7MB/s \n",
            "\u001b[31mERROR: nbdev 1.1.5 has requirement nbconvert<6, but you'll have nbconvert 6.0.7 which is incompatible.\u001b[0m\n",
            "\u001b[31mERROR: google-colab 1.0.0 has requirement pandas~=1.1.0; python_version >= \"3.0\", but you'll have pandas 1.0.0 which is incompatible.\u001b[0m\n",
            "\u001b[?25hEnabling: voila\n",
            "- Writing config: /usr/etc/jupyter\n",
            "    - Validating...\n",
            "Error loading server extension voila\n",
            "     \u001b[31m X\u001b[0m is voila importable?\n"
          ],
          "name": "stdout"
        }
      ]
    }
  ]
}